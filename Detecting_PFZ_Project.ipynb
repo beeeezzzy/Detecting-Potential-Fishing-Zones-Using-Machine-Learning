{
 "cells": [
  {
   "cell_type": "code",
   "execution_count": 1,
   "metadata": {},
   "outputs": [],
   "source": [
    "import pandas as pd\n",
    "import numpy as np\n",
    "import matplotlib.pyplot as plt"
   ]
  },
  {
   "cell_type": "code",
   "execution_count": 2,
   "metadata": {},
   "outputs": [],
   "source": [
    "#Data Preparation"
   ]
  },
  {
   "cell_type": "code",
   "execution_count": 3,
   "metadata": {},
   "outputs": [
    {
     "data": {
      "text/html": [
       "<div>\n",
       "<style scoped>\n",
       "    .dataframe tbody tr th:only-of-type {\n",
       "        vertical-align: middle;\n",
       "    }\n",
       "\n",
       "    .dataframe tbody tr th {\n",
       "        vertical-align: top;\n",
       "    }\n",
       "\n",
       "    .dataframe thead th {\n",
       "        text-align: right;\n",
       "    }\n",
       "</style>\n",
       "<table border=\"1\" class=\"dataframe\">\n",
       "  <thead>\n",
       "    <tr style=\"text-align: right;\">\n",
       "      <th></th>\n",
       "      <th>SST</th>\n",
       "      <th>SSC</th>\n",
       "      <th>SLP</th>\n",
       "      <th>AT</th>\n",
       "      <th>Catch</th>\n",
       "      <th>Label</th>\n",
       "    </tr>\n",
       "  </thead>\n",
       "  <tbody>\n",
       "    <tr>\n",
       "      <th>0</th>\n",
       "      <td>28.713878</td>\n",
       "      <td>0.153200</td>\n",
       "      <td>1010.423500</td>\n",
       "      <td>30.212682</td>\n",
       "      <td>43934.09800</td>\n",
       "      <td>NPFZ</td>\n",
       "    </tr>\n",
       "    <tr>\n",
       "      <th>1</th>\n",
       "      <td>28.722450</td>\n",
       "      <td>0.160000</td>\n",
       "      <td>1010.495918</td>\n",
       "      <td>27.779787</td>\n",
       "      <td>5138.23300</td>\n",
       "      <td>NPFZ</td>\n",
       "    </tr>\n",
       "    <tr>\n",
       "      <th>2</th>\n",
       "      <td>29.214850</td>\n",
       "      <td>0.130000</td>\n",
       "      <td>1007.234500</td>\n",
       "      <td>27.612174</td>\n",
       "      <td>14151.87400</td>\n",
       "      <td>NPFZ</td>\n",
       "    </tr>\n",
       "    <tr>\n",
       "      <th>3</th>\n",
       "      <td>29.337951</td>\n",
       "      <td>0.028820</td>\n",
       "      <td>1004.093299</td>\n",
       "      <td>27.545814</td>\n",
       "      <td>63763.75896</td>\n",
       "      <td>NPFZ</td>\n",
       "    </tr>\n",
       "    <tr>\n",
       "      <th>4</th>\n",
       "      <td>29.515721</td>\n",
       "      <td>0.087811</td>\n",
       "      <td>1001.634852</td>\n",
       "      <td>27.914788</td>\n",
       "      <td>83218.67463</td>\n",
       "      <td>NPFZ</td>\n",
       "    </tr>\n",
       "    <tr>\n",
       "      <th>...</th>\n",
       "      <td>...</td>\n",
       "      <td>...</td>\n",
       "      <td>...</td>\n",
       "      <td>...</td>\n",
       "      <td>...</td>\n",
       "      <td>...</td>\n",
       "    </tr>\n",
       "    <tr>\n",
       "      <th>127</th>\n",
       "      <td>30.783003</td>\n",
       "      <td>0.176246</td>\n",
       "      <td>1006.088882</td>\n",
       "      <td>27.330665</td>\n",
       "      <td>37648.43892</td>\n",
       "      <td>NPFZ</td>\n",
       "    </tr>\n",
       "    <tr>\n",
       "      <th>128</th>\n",
       "      <td>30.213613</td>\n",
       "      <td>0.194089</td>\n",
       "      <td>1006.930154</td>\n",
       "      <td>27.759000</td>\n",
       "      <td>39799.59449</td>\n",
       "      <td>NPFZ</td>\n",
       "    </tr>\n",
       "    <tr>\n",
       "      <th>129</th>\n",
       "      <td>29.485909</td>\n",
       "      <td>0.220000</td>\n",
       "      <td>1009.680227</td>\n",
       "      <td>28.135843</td>\n",
       "      <td>43065.21100</td>\n",
       "      <td>PFZ</td>\n",
       "    </tr>\n",
       "    <tr>\n",
       "      <th>130</th>\n",
       "      <td>28.659535</td>\n",
       "      <td>0.240000</td>\n",
       "      <td>1013.386250</td>\n",
       "      <td>28.333843</td>\n",
       "      <td>48131.72500</td>\n",
       "      <td>PFZ</td>\n",
       "    </tr>\n",
       "    <tr>\n",
       "      <th>131</th>\n",
       "      <td>27.924444</td>\n",
       "      <td>0.180000</td>\n",
       "      <td>1011.223556</td>\n",
       "      <td>28.225652</td>\n",
       "      <td>57378.14200</td>\n",
       "      <td>NPFZ</td>\n",
       "    </tr>\n",
       "  </tbody>\n",
       "</table>\n",
       "<p>132 rows × 6 columns</p>\n",
       "</div>"
      ],
      "text/plain": [
       "           SST       SSC          SLP         AT        Catch Label\n",
       "0    28.713878  0.153200  1010.423500  30.212682  43934.09800  NPFZ\n",
       "1    28.722450  0.160000  1010.495918  27.779787   5138.23300  NPFZ\n",
       "2    29.214850  0.130000  1007.234500  27.612174  14151.87400  NPFZ\n",
       "3    29.337951  0.028820  1004.093299  27.545814  63763.75896  NPFZ\n",
       "4    29.515721  0.087811  1001.634852  27.914788  83218.67463  NPFZ\n",
       "..         ...       ...          ...        ...          ...   ...\n",
       "127  30.783003  0.176246  1006.088882  27.330665  37648.43892  NPFZ\n",
       "128  30.213613  0.194089  1006.930154  27.759000  39799.59449  NPFZ\n",
       "129  29.485909  0.220000  1009.680227  28.135843  43065.21100   PFZ\n",
       "130  28.659535  0.240000  1013.386250  28.333843  48131.72500   PFZ\n",
       "131  27.924444  0.180000  1011.223556  28.225652  57378.14200  NPFZ\n",
       "\n",
       "[132 rows x 6 columns]"
      ]
     },
     "execution_count": 3,
     "metadata": {},
     "output_type": "execute_result"
    }
   ],
   "source": [
    "dataset = pd.read_csv(\"OD_Dataset.csv\")\n",
    "dataset2 = dataset[['SST', 'SSC', 'SLP','AT','Catch', 'Label']]\n",
    "dataset2"
   ]
  },
  {
   "cell_type": "code",
   "execution_count": 4,
   "metadata": {},
   "outputs": [
    {
     "name": "stderr",
     "output_type": "stream",
     "text": [
      "<ipython-input-4-fbf6fdbab1f1>:1: SettingWithCopyWarning: \n",
      "A value is trying to be set on a copy of a slice from a DataFrame.\n",
      "Try using .loc[row_indexer,col_indexer] = value instead\n",
      "\n",
      "See the caveats in the documentation: https://pandas.pydata.org/pandas-docs/stable/user_guide/indexing.html#returning-a-view-versus-a-copy\n",
      "  dataset2['Label']=dataset2['Label'].map({'PFZ':0,'NPFZ':1})\n"
     ]
    },
    {
     "data": {
      "text/html": [
       "<div>\n",
       "<style scoped>\n",
       "    .dataframe tbody tr th:only-of-type {\n",
       "        vertical-align: middle;\n",
       "    }\n",
       "\n",
       "    .dataframe tbody tr th {\n",
       "        vertical-align: top;\n",
       "    }\n",
       "\n",
       "    .dataframe thead th {\n",
       "        text-align: right;\n",
       "    }\n",
       "</style>\n",
       "<table border=\"1\" class=\"dataframe\">\n",
       "  <thead>\n",
       "    <tr style=\"text-align: right;\">\n",
       "      <th></th>\n",
       "      <th>SST</th>\n",
       "      <th>SSC</th>\n",
       "      <th>SLP</th>\n",
       "      <th>AT</th>\n",
       "      <th>Catch</th>\n",
       "      <th>Label</th>\n",
       "    </tr>\n",
       "  </thead>\n",
       "  <tbody>\n",
       "    <tr>\n",
       "      <th>0</th>\n",
       "      <td>28.713878</td>\n",
       "      <td>0.153200</td>\n",
       "      <td>1010.423500</td>\n",
       "      <td>30.212682</td>\n",
       "      <td>43934.09800</td>\n",
       "      <td>1</td>\n",
       "    </tr>\n",
       "    <tr>\n",
       "      <th>1</th>\n",
       "      <td>28.722450</td>\n",
       "      <td>0.160000</td>\n",
       "      <td>1010.495918</td>\n",
       "      <td>27.779787</td>\n",
       "      <td>5138.23300</td>\n",
       "      <td>1</td>\n",
       "    </tr>\n",
       "    <tr>\n",
       "      <th>2</th>\n",
       "      <td>29.214850</td>\n",
       "      <td>0.130000</td>\n",
       "      <td>1007.234500</td>\n",
       "      <td>27.612174</td>\n",
       "      <td>14151.87400</td>\n",
       "      <td>1</td>\n",
       "    </tr>\n",
       "    <tr>\n",
       "      <th>3</th>\n",
       "      <td>29.337951</td>\n",
       "      <td>0.028820</td>\n",
       "      <td>1004.093299</td>\n",
       "      <td>27.545814</td>\n",
       "      <td>63763.75896</td>\n",
       "      <td>1</td>\n",
       "    </tr>\n",
       "    <tr>\n",
       "      <th>4</th>\n",
       "      <td>29.515721</td>\n",
       "      <td>0.087811</td>\n",
       "      <td>1001.634852</td>\n",
       "      <td>27.914788</td>\n",
       "      <td>83218.67463</td>\n",
       "      <td>1</td>\n",
       "    </tr>\n",
       "    <tr>\n",
       "      <th>...</th>\n",
       "      <td>...</td>\n",
       "      <td>...</td>\n",
       "      <td>...</td>\n",
       "      <td>...</td>\n",
       "      <td>...</td>\n",
       "      <td>...</td>\n",
       "    </tr>\n",
       "    <tr>\n",
       "      <th>127</th>\n",
       "      <td>30.783003</td>\n",
       "      <td>0.176246</td>\n",
       "      <td>1006.088882</td>\n",
       "      <td>27.330665</td>\n",
       "      <td>37648.43892</td>\n",
       "      <td>1</td>\n",
       "    </tr>\n",
       "    <tr>\n",
       "      <th>128</th>\n",
       "      <td>30.213613</td>\n",
       "      <td>0.194089</td>\n",
       "      <td>1006.930154</td>\n",
       "      <td>27.759000</td>\n",
       "      <td>39799.59449</td>\n",
       "      <td>1</td>\n",
       "    </tr>\n",
       "    <tr>\n",
       "      <th>129</th>\n",
       "      <td>29.485909</td>\n",
       "      <td>0.220000</td>\n",
       "      <td>1009.680227</td>\n",
       "      <td>28.135843</td>\n",
       "      <td>43065.21100</td>\n",
       "      <td>0</td>\n",
       "    </tr>\n",
       "    <tr>\n",
       "      <th>130</th>\n",
       "      <td>28.659535</td>\n",
       "      <td>0.240000</td>\n",
       "      <td>1013.386250</td>\n",
       "      <td>28.333843</td>\n",
       "      <td>48131.72500</td>\n",
       "      <td>0</td>\n",
       "    </tr>\n",
       "    <tr>\n",
       "      <th>131</th>\n",
       "      <td>27.924444</td>\n",
       "      <td>0.180000</td>\n",
       "      <td>1011.223556</td>\n",
       "      <td>28.225652</td>\n",
       "      <td>57378.14200</td>\n",
       "      <td>1</td>\n",
       "    </tr>\n",
       "  </tbody>\n",
       "</table>\n",
       "<p>132 rows × 6 columns</p>\n",
       "</div>"
      ],
      "text/plain": [
       "           SST       SSC          SLP         AT        Catch  Label\n",
       "0    28.713878  0.153200  1010.423500  30.212682  43934.09800      1\n",
       "1    28.722450  0.160000  1010.495918  27.779787   5138.23300      1\n",
       "2    29.214850  0.130000  1007.234500  27.612174  14151.87400      1\n",
       "3    29.337951  0.028820  1004.093299  27.545814  63763.75896      1\n",
       "4    29.515721  0.087811  1001.634852  27.914788  83218.67463      1\n",
       "..         ...       ...          ...        ...          ...    ...\n",
       "127  30.783003  0.176246  1006.088882  27.330665  37648.43892      1\n",
       "128  30.213613  0.194089  1006.930154  27.759000  39799.59449      1\n",
       "129  29.485909  0.220000  1009.680227  28.135843  43065.21100      0\n",
       "130  28.659535  0.240000  1013.386250  28.333843  48131.72500      0\n",
       "131  27.924444  0.180000  1011.223556  28.225652  57378.14200      1\n",
       "\n",
       "[132 rows x 6 columns]"
      ]
     },
     "execution_count": 4,
     "metadata": {},
     "output_type": "execute_result"
    }
   ],
   "source": [
    "dataset2['Label']=dataset2['Label'].map({'PFZ':0,'NPFZ':1})\n",
    "dataset2"
   ]
  },
  {
   "cell_type": "code",
   "execution_count": 5,
   "metadata": {},
   "outputs": [],
   "source": [
    "X = dataset2[['SST', 'SSC', 'SLP']]\n",
    "Y = dataset2[['Label']]"
   ]
  },
  {
   "cell_type": "code",
   "execution_count": 6,
   "metadata": {},
   "outputs": [],
   "source": [
    "#Data Preprocessing"
   ]
  },
  {
   "cell_type": "code",
   "execution_count": 7,
   "metadata": {},
   "outputs": [],
   "source": [
    "from sklearn import preprocessing\n",
    "X_prep = preprocessing.normalize(X, norm='l2')\n",
    "Y_prep = np.squeeze(np.array(Y).reshape(1,-1))"
   ]
  },
  {
   "cell_type": "code",
   "execution_count": 8,
   "metadata": {},
   "outputs": [],
   "source": [
    "#Model Evaluation and Testing"
   ]
  },
  {
   "cell_type": "code",
   "execution_count": 9,
   "metadata": {},
   "outputs": [],
   "source": [
    "from sklearn.model_selection import train_test_split\n",
    "X_train, X_test, y_train, y_test = train_test_split(X_prep,Y_prep, test_size=0.33, random_state=40)\n",
    "from sklearn.metrics import accuracy_score\n",
    "from sklearn.metrics import confusion_matrix \n",
    "from sklearn.model_selection import cross_val_score, RandomizedSearchCV"
   ]
  },
  {
   "cell_type": "code",
   "execution_count": 10,
   "metadata": {},
   "outputs": [],
   "source": [
    "#Decision Tree"
   ]
  },
  {
   "cell_type": "code",
   "execution_count": 11,
   "metadata": {},
   "outputs": [],
   "source": [
    "from sklearn import tree\n",
    "DTC = tree.DecisionTreeClassifier()\n",
    "DTC = DTC.fit(X_train,y_train)"
   ]
  },
  {
   "cell_type": "code",
   "execution_count": 12,
   "metadata": {},
   "outputs": [
    {
     "data": {
      "text/plain": [
       "0.9545454545454546"
      ]
     },
     "execution_count": 12,
     "metadata": {},
     "output_type": "execute_result"
    }
   ],
   "source": [
    "result = DTC.predict(X_test)\n",
    "accuracy_score(y_test,result)"
   ]
  },
  {
   "cell_type": "code",
   "execution_count": 13,
   "metadata": {},
   "outputs": [
    {
     "data": {
      "text/plain": [
       "array([[12,  1],\n",
       "       [ 1, 30]], dtype=int64)"
      ]
     },
     "execution_count": 13,
     "metadata": {},
     "output_type": "execute_result"
    }
   ],
   "source": [
    "confusion_matrix(y_test,result)"
   ]
  },
  {
   "cell_type": "code",
   "execution_count": 14,
   "metadata": {},
   "outputs": [
    {
     "data": {
      "text/plain": [
       "0.9305555555555556"
      ]
     },
     "execution_count": 14,
     "metadata": {},
     "output_type": "execute_result"
    }
   ],
   "source": [
    "scores = cross_val_score(DTC, X_train, y_train, cv = 10)\n",
    "scores.std()\n",
    "scores.mean()"
   ]
  },
  {
   "cell_type": "code",
   "execution_count": 15,
   "metadata": {},
   "outputs": [],
   "source": [
    "param = {\n",
    "    \"criterion\": ['gini', 'entropy'],\n",
    "    \"max_depth\": range(1,10),\n",
    "    \"min_samples_leaf\": range(1,5),\n",
    "    \"min_samples_split\": range(2,10)\n",
    "}"
   ]
  },
  {
   "cell_type": "code",
   "execution_count": 16,
   "metadata": {},
   "outputs": [
    {
     "data": {
      "text/plain": [
       "RandomizedSearchCV(cv=10, estimator=DecisionTreeClassifier(), n_iter=100,\n",
       "                   n_jobs=-1,\n",
       "                   param_distributions={'criterion': ['gini', 'entropy'],\n",
       "                                        'max_depth': range(1, 10),\n",
       "                                        'min_samples_leaf': range(1, 5),\n",
       "                                        'min_samples_split': range(2, 10)},\n",
       "                   scoring='accuracy')"
      ]
     },
     "execution_count": 16,
     "metadata": {},
     "output_type": "execute_result"
    }
   ],
   "source": [
    "grid = RandomizedSearchCV(DTC,\n",
    "                    param_distributions = param,\n",
    "                    scoring = 'accuracy',\n",
    "                    cv = 10,\n",
    "                    n_jobs = -1,\n",
    "                    return_train_score = False,\n",
    "                    n_iter = 100)\n",
    "grid.fit(X_train,y_train)"
   ]
  },
  {
   "cell_type": "code",
   "execution_count": 17,
   "metadata": {},
   "outputs": [
    {
     "data": {
      "text/plain": [
       "{'min_samples_split': 6,\n",
       " 'min_samples_leaf': 3,\n",
       " 'max_depth': 2,\n",
       " 'criterion': 'entropy'}"
      ]
     },
     "execution_count": 17,
     "metadata": {},
     "output_type": "execute_result"
    }
   ],
   "source": [
    "grid.best_params_"
   ]
  },
  {
   "cell_type": "code",
   "execution_count": 18,
   "metadata": {},
   "outputs": [
    {
     "data": {
      "text/plain": [
       "0.9541666666666666"
      ]
     },
     "execution_count": 18,
     "metadata": {},
     "output_type": "execute_result"
    }
   ],
   "source": [
    "grid.best_score_"
   ]
  },
  {
   "cell_type": "code",
   "execution_count": 19,
   "metadata": {},
   "outputs": [],
   "source": [
    "#Random Forest"
   ]
  },
  {
   "cell_type": "code",
   "execution_count": 20,
   "metadata": {},
   "outputs": [],
   "source": [
    "from sklearn.ensemble import RandomForestClassifier\n",
    "RFC = RandomForestClassifier(random_state=0)\n",
    "RFC = RFC.fit(X_train, y_train)"
   ]
  },
  {
   "cell_type": "code",
   "execution_count": 21,
   "metadata": {},
   "outputs": [
    {
     "data": {
      "text/plain": [
       "0.9318181818181818"
      ]
     },
     "execution_count": 21,
     "metadata": {},
     "output_type": "execute_result"
    }
   ],
   "source": [
    "result = RFC.predict(X_test)\n",
    "accuracy_score(y_test,result)"
   ]
  },
  {
   "cell_type": "code",
   "execution_count": 22,
   "metadata": {},
   "outputs": [
    {
     "data": {
      "text/plain": [
       "array([[13,  0],\n",
       "       [ 3, 28]], dtype=int64)"
      ]
     },
     "execution_count": 22,
     "metadata": {},
     "output_type": "execute_result"
    }
   ],
   "source": [
    "confusion_matrix(y_test,result)"
   ]
  },
  {
   "cell_type": "code",
   "execution_count": 23,
   "metadata": {},
   "outputs": [
    {
     "data": {
      "text/plain": [
       "0.9541666666666666"
      ]
     },
     "execution_count": 23,
     "metadata": {},
     "output_type": "execute_result"
    }
   ],
   "source": [
    "scores = cross_val_score(RFC, X_train, y_train, cv = 10)\n",
    "scores.std()\n",
    "scores.mean()"
   ]
  },
  {
   "cell_type": "code",
   "execution_count": 24,
   "metadata": {},
   "outputs": [],
   "source": [
    "param = {\n",
    "    \"n_estimators\": range(10,100),\n",
    "    \"criterion\": ['gini', 'entropy'],\n",
    "    \"max_depth\": range(1,10),\n",
    "    \"min_samples_leaf\": range(1,5),\n",
    "    \"min_samples_split\": range(2,10)\n",
    "}"
   ]
  },
  {
   "cell_type": "code",
   "execution_count": 25,
   "metadata": {},
   "outputs": [
    {
     "data": {
      "text/plain": [
       "RandomizedSearchCV(cv=10, estimator=RandomForestClassifier(random_state=0),\n",
       "                   n_iter=100, n_jobs=-1,\n",
       "                   param_distributions={'criterion': ['gini', 'entropy'],\n",
       "                                        'max_depth': range(1, 10),\n",
       "                                        'min_samples_leaf': range(1, 5),\n",
       "                                        'min_samples_split': range(2, 10),\n",
       "                                        'n_estimators': range(10, 100)},\n",
       "                   scoring='accuracy')"
      ]
     },
     "execution_count": 25,
     "metadata": {},
     "output_type": "execute_result"
    }
   ],
   "source": [
    "grid = RandomizedSearchCV(RFC,\n",
    "                    param_distributions = param,\n",
    "                    scoring = 'accuracy',\n",
    "                    cv = 10,\n",
    "                    n_jobs = -1,\n",
    "                    return_train_score = False,\n",
    "                    n_iter = 100)\n",
    "grid.fit(X_train,y_train)"
   ]
  },
  {
   "cell_type": "code",
   "execution_count": 26,
   "metadata": {},
   "outputs": [
    {
     "data": {
      "text/plain": [
       "{'n_estimators': 15,\n",
       " 'min_samples_split': 3,\n",
       " 'min_samples_leaf': 2,\n",
       " 'max_depth': 2,\n",
       " 'criterion': 'gini'}"
      ]
     },
     "execution_count": 26,
     "metadata": {},
     "output_type": "execute_result"
    }
   ],
   "source": [
    "grid.best_params_"
   ]
  },
  {
   "cell_type": "code",
   "execution_count": 27,
   "metadata": {},
   "outputs": [
    {
     "data": {
      "text/plain": [
       "0.9652777777777779"
      ]
     },
     "execution_count": 27,
     "metadata": {},
     "output_type": "execute_result"
    }
   ],
   "source": [
    "grid.best_score_"
   ]
  },
  {
   "cell_type": "code",
   "execution_count": 28,
   "metadata": {},
   "outputs": [],
   "source": [
    "#Support Vector Machine"
   ]
  },
  {
   "cell_type": "code",
   "execution_count": 29,
   "metadata": {},
   "outputs": [],
   "source": [
    "from sklearn import svm\n",
    "SVM = svm.SVC() # svm classifer\n",
    "SVM = SVM.fit(X_train, y_train)"
   ]
  },
  {
   "cell_type": "code",
   "execution_count": 30,
   "metadata": {},
   "outputs": [
    {
     "data": {
      "text/plain": [
       "0.7045454545454546"
      ]
     },
     "execution_count": 30,
     "metadata": {},
     "output_type": "execute_result"
    }
   ],
   "source": [
    "result = SVM.predict(X_test)\n",
    "accuracy_score(y_test,result)"
   ]
  },
  {
   "cell_type": "code",
   "execution_count": 31,
   "metadata": {},
   "outputs": [
    {
     "data": {
      "text/plain": [
       "array([[ 0, 13],\n",
       "       [ 0, 31]], dtype=int64)"
      ]
     },
     "execution_count": 31,
     "metadata": {},
     "output_type": "execute_result"
    }
   ],
   "source": [
    "confusion_matrix(y_test,result)"
   ]
  },
  {
   "cell_type": "code",
   "execution_count": 32,
   "metadata": {},
   "outputs": [
    {
     "data": {
      "text/plain": [
       "0.5694444444444444"
      ]
     },
     "execution_count": 32,
     "metadata": {},
     "output_type": "execute_result"
    }
   ],
   "source": [
    "scores = cross_val_score(SVM, X_train, y_train, cv = 10)\n",
    "scores.std()\n",
    "scores.mean()"
   ]
  },
  {
   "cell_type": "code",
   "execution_count": 33,
   "metadata": {},
   "outputs": [],
   "source": [
    "param = {\n",
    "    \"C\" : range(1,10),\n",
    "    \"degree\": range(1,100),\n",
    "    \"gamma\": ['auto', 'scale']\n",
    "}"
   ]
  },
  {
   "cell_type": "code",
   "execution_count": 34,
   "metadata": {},
   "outputs": [
    {
     "data": {
      "text/plain": [
       "RandomizedSearchCV(cv=10, estimator=SVC(), n_iter=100, n_jobs=-1,\n",
       "                   param_distributions={'C': range(1, 10),\n",
       "                                        'degree': range(1, 100),\n",
       "                                        'gamma': ['auto', 'scale']},\n",
       "                   scoring='accuracy')"
      ]
     },
     "execution_count": 34,
     "metadata": {},
     "output_type": "execute_result"
    }
   ],
   "source": [
    "grid = RandomizedSearchCV(SVM,\n",
    "                    param_distributions = param,\n",
    "                    scoring = 'accuracy',\n",
    "                    cv = 10,\n",
    "                    n_jobs = -1,\n",
    "                    return_train_score = False,\n",
    "                    n_iter = 100)\n",
    "grid.fit(X_train,y_train)"
   ]
  },
  {
   "cell_type": "code",
   "execution_count": 35,
   "metadata": {},
   "outputs": [
    {
     "data": {
      "text/plain": [
       "{'gamma': 'auto', 'degree': 81, 'C': 4}"
      ]
     },
     "execution_count": 35,
     "metadata": {},
     "output_type": "execute_result"
    }
   ],
   "source": [
    "grid.best_params_"
   ]
  },
  {
   "cell_type": "code",
   "execution_count": 36,
   "metadata": {},
   "outputs": [
    {
     "data": {
      "text/plain": [
       "0.5694444444444444"
      ]
     },
     "execution_count": 36,
     "metadata": {},
     "output_type": "execute_result"
    }
   ],
   "source": [
    "grid.best_score_"
   ]
  },
  {
   "cell_type": "code",
   "execution_count": 37,
   "metadata": {},
   "outputs": [],
   "source": [
    "#K-Nearest Neighbor"
   ]
  },
  {
   "cell_type": "code",
   "execution_count": 38,
   "metadata": {},
   "outputs": [
    {
     "data": {
      "text/plain": [
       "KNeighborsClassifier()"
      ]
     },
     "execution_count": 38,
     "metadata": {},
     "output_type": "execute_result"
    }
   ],
   "source": [
    "from sklearn.neighbors import KNeighborsClassifier\n",
    "KNN = KNeighborsClassifier()\n",
    "KNN.fit(X_train,y_train)"
   ]
  },
  {
   "cell_type": "code",
   "execution_count": 39,
   "metadata": {},
   "outputs": [
    {
     "data": {
      "text/plain": [
       "0.7045454545454546"
      ]
     },
     "execution_count": 39,
     "metadata": {},
     "output_type": "execute_result"
    }
   ],
   "source": [
    "result = KNN.predict(X_test)\n",
    "accuracy_score(y_test,result)"
   ]
  },
  {
   "cell_type": "code",
   "execution_count": 40,
   "metadata": {},
   "outputs": [
    {
     "data": {
      "text/plain": [
       "array([[ 5,  8],\n",
       "       [ 5, 26]], dtype=int64)"
      ]
     },
     "execution_count": 40,
     "metadata": {},
     "output_type": "execute_result"
    }
   ],
   "source": [
    "confusion_matrix(y_test,result)"
   ]
  },
  {
   "cell_type": "code",
   "execution_count": 41,
   "metadata": {},
   "outputs": [
    {
     "data": {
      "text/plain": [
       "0.7347222222222222"
      ]
     },
     "execution_count": 41,
     "metadata": {},
     "output_type": "execute_result"
    }
   ],
   "source": [
    "scores = cross_val_score(KNN, X_train, y_train, cv = 10)\n",
    "scores.std()\n",
    "scores.mean()"
   ]
  },
  {
   "cell_type": "code",
   "execution_count": 42,
   "metadata": {},
   "outputs": [],
   "source": [
    "param = {\n",
    "    \"n_neighbors\" : range(1,30),\n",
    "    \"algorithm\": ['auto', 'ball_tree', 'kd_tree', 'brute'],\n",
    "    \"leaf_size\": range(1,30)\n",
    "}"
   ]
  },
  {
   "cell_type": "code",
   "execution_count": 43,
   "metadata": {},
   "outputs": [
    {
     "data": {
      "text/plain": [
       "RandomizedSearchCV(cv=10, estimator=KNeighborsClassifier(), n_iter=100,\n",
       "                   n_jobs=-1,\n",
       "                   param_distributions={'algorithm': ['auto', 'ball_tree',\n",
       "                                                      'kd_tree', 'brute'],\n",
       "                                        'leaf_size': range(1, 30),\n",
       "                                        'n_neighbors': range(1, 30)},\n",
       "                   scoring='accuracy')"
      ]
     },
     "execution_count": 43,
     "metadata": {},
     "output_type": "execute_result"
    }
   ],
   "source": [
    "grid = RandomizedSearchCV(KNN,\n",
    "                    param_distributions = param,\n",
    "                    scoring = 'accuracy',\n",
    "                    cv = 10,\n",
    "                    n_jobs = -1,\n",
    "                    return_train_score = False,\n",
    "                    n_iter = 100)\n",
    "grid.fit(X_train,y_train)"
   ]
  },
  {
   "cell_type": "code",
   "execution_count": 44,
   "metadata": {},
   "outputs": [
    {
     "data": {
      "text/plain": [
       "{'n_neighbors': 1, 'leaf_size': 17, 'algorithm': 'brute'}"
      ]
     },
     "execution_count": 44,
     "metadata": {},
     "output_type": "execute_result"
    }
   ],
   "source": [
    "grid.best_params_"
   ]
  },
  {
   "cell_type": "code",
   "execution_count": 45,
   "metadata": {},
   "outputs": [
    {
     "data": {
      "text/plain": [
       "0.7958333333333333"
      ]
     },
     "execution_count": 45,
     "metadata": {},
     "output_type": "execute_result"
    }
   ],
   "source": [
    "grid.best_score_"
   ]
  },
  {
   "cell_type": "code",
   "execution_count": 50,
   "metadata": {},
   "outputs": [
    {
     "data": {
      "text/html": [
       "<div>\n",
       "<style scoped>\n",
       "    .dataframe tbody tr th:only-of-type {\n",
       "        vertical-align: middle;\n",
       "    }\n",
       "\n",
       "    .dataframe tbody tr th {\n",
       "        vertical-align: top;\n",
       "    }\n",
       "\n",
       "    .dataframe thead th {\n",
       "        text-align: right;\n",
       "    }\n",
       "</style>\n",
       "<table border=\"1\" class=\"dataframe\">\n",
       "  <thead>\n",
       "    <tr style=\"text-align: right;\">\n",
       "      <th></th>\n",
       "      <th>Model</th>\n",
       "      <th>RSScore</th>\n",
       "      <th>WRSScore</th>\n",
       "    </tr>\n",
       "  </thead>\n",
       "  <tbody>\n",
       "    <tr>\n",
       "      <th>0</th>\n",
       "      <td>DT</td>\n",
       "      <td>0.9541</td>\n",
       "      <td>0.9545</td>\n",
       "    </tr>\n",
       "    <tr>\n",
       "      <th>1</th>\n",
       "      <td>RF</td>\n",
       "      <td>0.9652</td>\n",
       "      <td>0.9318</td>\n",
       "    </tr>\n",
       "    <tr>\n",
       "      <th>2</th>\n",
       "      <td>KNN</td>\n",
       "      <td>0.7347</td>\n",
       "      <td>0.7045</td>\n",
       "    </tr>\n",
       "    <tr>\n",
       "      <th>3</th>\n",
       "      <td>SVM</td>\n",
       "      <td>0.5694</td>\n",
       "      <td>0.7045</td>\n",
       "    </tr>\n",
       "  </tbody>\n",
       "</table>\n",
       "</div>"
      ],
      "text/plain": [
       "  Model  RSScore  WRSScore\n",
       "0    DT   0.9541    0.9545\n",
       "1    RF   0.9652    0.9318\n",
       "2   KNN   0.7347    0.7045\n",
       "3   SVM   0.5694    0.7045"
      ]
     },
     "execution_count": 50,
     "metadata": {},
     "output_type": "execute_result"
    }
   ],
   "source": [
    "dataset = pd.read_csv(\"accuracy_comparison.csv\")\n",
    "dataset"
   ]
  },
  {
   "cell_type": "code",
   "execution_count": 51,
   "metadata": {},
   "outputs": [],
   "source": [
    "index = ['DT','RF','KNN','SVM']\n",
    "df = pd.DataFrame({'Accuracy Score with Random Search': dataset['RSScore'].values.tolist()}, index=index)"
   ]
  },
  {
   "cell_type": "code",
   "execution_count": 52,
   "metadata": {},
   "outputs": [
    {
     "data": {
      "text/plain": [
       "Text(0, 0.5, 'Score')"
      ]
     },
     "execution_count": 52,
     "metadata": {},
     "output_type": "execute_result"
    },
    {
     "data": {
      "image/png": "[encoded data removed]",
      "text/plain": [
       "<Figure size 576x432 with 1 Axes>"
      ]
     },
     "metadata": {
      "needs_background": "light"
     },
     "output_type": "display_data"
    }
   ],
   "source": [
    "df.plot.bar(rot=0, figsize=(8,6))\n",
    "plt.title(\"Accuracy Comparison\")\n",
    "plt.xlabel(\"Models\")\n",
    "plt.ylabel(\"Score\")"
   ]
  },
  {
   "cell_type": "code",
   "execution_count": null,
   "metadata": {},
   "outputs": [],
   "source": []
  }
 ],
 "metadata": {
  "kernelspec": {
   "display_name": "Python 3",
   "language": "python",
   "name": "python3"
  },
  "language_info": {
   "codemirror_mode": {
    "name": "ipython",
    "version": 3
   },
   "file_extension": ".py",
   "mimetype": "text/x-python",
   "name": "python",
   "nbconvert_exporter": "python",
   "pygments_lexer": "ipython3",
   "version": "3.8.3"
  }
 },
 "nbformat": 4,
 "nbformat_minor": 4
}
